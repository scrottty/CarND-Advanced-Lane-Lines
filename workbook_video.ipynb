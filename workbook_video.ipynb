{
 "cells": [
  {
   "cell_type": "markdown",
   "metadata": {},
   "source": [
    "# Project 4 - Advanced Lane Lines"
   ]
  },
  {
   "cell_type": "markdown",
   "metadata": {},
   "source": [
    "### Load Libraries and Variables"
   ]
  },
  {
   "cell_type": "code",
   "execution_count": 1,
   "metadata": {
    "collapsed": false
   },
   "outputs": [
    {
     "name": "stdout",
     "output_type": "stream",
     "text": [
      "Libraries imported!\n"
     ]
    }
   ],
   "source": [
    "# Import libraries\n",
    "from moviepy.editor import VideoFileClip\n",
    "from IPython.display import HTML\n",
    "import pickle\n",
    "import numpy as np\n",
    "import cv2\n",
    "from matplotlib import pyplot as plt\n",
    "\n",
    "print(\"Libraries imported!\")"
   ]
  },
  {
   "cell_type": "code",
   "execution_count": 2,
   "metadata": {
    "collapsed": false
   },
   "outputs": [
    {
     "name": "stdout",
     "output_type": "stream",
     "text": [
      "Camera Distortion Matricies Imported\n"
     ]
    }
   ],
   "source": [
    "# Load matricies to undistort images\n",
    "mtx = pickle.load(open(\"cameraMatrix.p\", \"rb\"))\n",
    "dist = pickle.load(open(\"distortionCoeff.p\", \"rb\"))\n",
    "M = pickle.load(open(\"perspectiveMatrix.p\",\"rb\"))\n",
    "Minv = pickle.load(open(\"perspectiveMatrixInv.p\",\"rb\"))\n",
    "print(\"Camera Distortion Matricies Imported\")"
   ]
  },
  {
   "cell_type": "markdown",
   "metadata": {},
   "source": [
    "### Functions for Preprocessing"
   ]
  },
  {
   "cell_type": "code",
   "execution_count": 3,
   "metadata": {
    "collapsed": true
   },
   "outputs": [],
   "source": [
    "# Function copied from P1\n",
    "def maskImages(img, vertices):\n",
    "    #defining a blank mask to start with\n",
    "    mask = np.zeros_like(img)   \n",
    "    \n",
    "    #defining a 3 channel or 1 channel color to fill the mask with depending on the input image\n",
    "    if len(img.shape) > 2:\n",
    "        channel_count = img.shape[2]  # i.e. 3 or 4 depending on your image\n",
    "        ignore_mask_color = (255,) * channel_count\n",
    "    else:\n",
    "        ignore_mask_color = 255\n",
    "        \n",
    "    #filling pixels inside the polygon defined by \"vertices\" with the fill color    \n",
    "    cv2.fillPoly(mask, vertices, ignore_mask_color)\n",
    "    \n",
    "    #returning the image only where mask pixels are nonzero\n",
    "    masked_image = cv2.bitwise_and(img, mask)\n",
    "    return masked_image"
   ]
  },
  {
   "cell_type": "code",
   "execution_count": 4,
   "metadata": {
    "collapsed": true
   },
   "outputs": [],
   "source": [
    "def createBinary(image, thresh):\n",
    "    binary = np.zeros_like(image)\n",
    "    binary[(image>=thresh[0]) & (image<= thresh[1])] = 1\n",
    "    return binary"
   ]
  },
  {
   "cell_type": "code",
   "execution_count": 5,
   "metadata": {
    "collapsed": true
   },
   "outputs": [],
   "source": [
    "def undistortImage(image):\n",
    "    return cv2.undistort(image, mtx, dist, None, mtx)"
   ]
  },
  {
   "cell_type": "code",
   "execution_count": 6,
   "metadata": {
    "collapsed": true
   },
   "outputs": [],
   "source": [
    "def colorspace(image):\n",
    "    S = cv2.cvtColor(image, cv2.COLOR_RGB2HLS)[:,:,2]\n",
    "    B = cv2.cvtColor(image, cv2.COLOR_RGB2LAB)[:,:,2]\n",
    "    L = cv2.cvtColor(image, cv2.COLOR_RGB2LUV)[:,:,0]\n",
    "    S = createBinary(S, (170, 250))\n",
    "    B = createBinary(B, (160, 255))\n",
    "    L = createBinary(L, (210, 255))\n",
    "    binaryCombined = np.zeros_like(S)\n",
    "    binaryCombined[(B==1) | (L==1)] = 1 #(S==1) | \n",
    "    return binaryCombined"
   ]
  },
  {
   "cell_type": "code",
   "execution_count": 7,
   "metadata": {
    "collapsed": true
   },
   "outputs": [],
   "source": [
    "def gradient_abs(image, orient='x', sobel_kernel=3, thresh=(0,255)):\n",
    "    image = cv2.cvtColor(image, cv2.COLOR_RGB2GRAY)\n",
    "    if orient=='x':\n",
    "        sobel = cv2.Sobel(image, cv2.CV_64F, 1, 0, ksize=sobel_kernel)\n",
    "    else:\n",
    "        sobel = cv2.Sobel(image, cv2.CV_64F, 0, 1, ksize=sobel_kernel)\n",
    "    # absolute gradient\n",
    "    sobelAbs = np.absolute(sobel)\n",
    "    sobelScaled = np.uint8(255*sobel/np.max(sobelAbs))\n",
    "    \n",
    "    return createBinary(sobelScaled, thresh)\n",
    "\n",
    "def gradient_mag(image, sobel_kernel=3, thresh=(0,255)):\n",
    "    # convert images to grayscale, could try other colorspaces (S, V)\n",
    "    image = cv2.cvtColor(image, cv2.COLOR_RGB2GRAY)\n",
    "    sobelx = cv2.Sobel(image, cv2.CV_64F, 1, 0, ksize=sobel_kernel)\n",
    "    sobely = cv2.Sobel(image, cv2.CV_64F, 0, 1, ksize=sobel_kernel)\n",
    "    \n",
    "    # Magnitude\n",
    "    gradmag = np.sqrt(sobelx**2 + sobely**2)\n",
    "    gradmag = np.uint8(255*gradmag/np.max(gradmag))\n",
    "    \n",
    "    return createBinary(gradmag, thresh)\n",
    "    \n",
    "def gradient_dir(image, sobel_kernel=3, thresh=(0,255)):\n",
    "    # convert images to grayscale, could try other colorspaces (S, V)\n",
    "    image = cv2.cvtColor(image, cv2.COLOR_RGB2GRAY)\n",
    "    sobelx = cv2.Sobel(image, cv2.CV_64F, 1, 0, ksize=sobel_kernel)\n",
    "    sobely = cv2.Sobel(image, cv2.CV_64F, 0, 1, ksize=sobel_kernel)\n",
    "    \n",
    "    # Direction\n",
    "    sobelAngle = np.arctan2(np.absolute(sobely),np.absolute(sobelx))\n",
    "    return createBinary(sobelAngle, thresh)"
   ]
  },
  {
   "cell_type": "code",
   "execution_count": 8,
   "metadata": {
    "collapsed": true
   },
   "outputs": [],
   "source": [
    "def gradient(image):\n",
    "    grad_absX = gradient_abs(image, orient='x', sobel_kernel=15, thresh=(20,200))\n",
    "    grad_absY = gradient_abs(image, orient='y', sobel_kernel=15, thresh=(20,200))\n",
    "    grad_mag = gradient_mag(image, sobel_kernel=15, thresh=(40,200))\n",
    "    grad_dir = gradient_dir(image, sobel_kernel=15, thresh=(0.7,1.1))\n",
    "    \n",
    "    binaryCombined = np.zeros_like(grad_absX)\n",
    "    binaryCombined[((grad_absX==1)&(grad_absY==1)) | \n",
    "                   ((grad_mag==1)&(grad_dir==1))] = 1"
   ]
  },
  {
   "cell_type": "code",
   "execution_count": 9,
   "metadata": {
    "collapsed": true
   },
   "outputs": [],
   "source": [
    "def perspective(image):\n",
    "    return cv2.warpPerspective(image, M, (image.shape[1], image.shape[0]), \n",
    "                                   flags=cv2.INTER_LINEAR)"
   ]
  },
  {
   "cell_type": "code",
   "execution_count": 10,
   "metadata": {
    "collapsed": false
   },
   "outputs": [],
   "source": [
    "def preprocessImage(image):\n",
    "    # Undistort Image\n",
    "    undistort = undistortImage(image)\n",
    "    # Create Combined Binary\n",
    "    colorspaceBinary = colorspace(undistort)\n",
    "    gradientBinary = gradient(undistort)\n",
    "    binaryCombined = np.zeros_like(colorspaceBinary)\n",
    "    binaryCombined[(colorspaceBinary==1)|(gradientBinary==1)] = 1\n",
    "    \n",
    "    # Mask to area of interest\n",
    "    imshape = image.shape\n",
    "    x_top=600\n",
    "    x_bottom=70\n",
    "    y=400\n",
    "    vertices = np.array([[(x_bottom,imshape[0]),(x_top, y), (imshape[1]-x_top, y), (imshape[1]-x_bottom,imshape[0])]], dtype=np.int32)\n",
    "    binaryMasked = maskImages(binaryCombined, vertices)\n",
    "    \n",
    "    binaryPerspective = perspective(binaryMasked)\n",
    "    \n",
    "    return binaryPerspective"
   ]
  },
  {
   "cell_type": "markdown",
   "metadata": {},
   "source": [
    "### Lane Finding"
   ]
  },
  {
   "cell_type": "code",
   "execution_count": 11,
   "metadata": {
    "collapsed": true
   },
   "outputs": [],
   "source": [
    "def radiusOfCurvature(x,y):\n",
    "    ymperpix = 30/720\n",
    "    xmperpix = 3.7/580\n",
    "    \n",
    "    # Refit using meter\n",
    "    coeffs = np.polyfit(y*ymperpix, x*xmperpix, 2)\n",
    "    \n",
    "    yeval = np.max(y)*ymperpix\n",
    "    # Calc radius of curvature\n",
    "    Rcurve = ((1 + (2*coeffs[0]*yeval + coeffs[1])**2)**1.5) / (2*coeffs[0])\n",
    "    \n",
    "    # Calc line distance top and bottom\n",
    "    basePos = coeffs[0]*yeval**2 + coeffs[1]*yeval + coeffs[2]\n",
    "    yeval = np.min(y)*ymperpix\n",
    "    topPos = coeffs[0]*yeval**2 + coeffs[1]*yeval + coeffs[2]\n",
    "    \n",
    "    return Rcurve, basePos, topPos"
   ]
  },
  {
   "cell_type": "code",
   "execution_count": 12,
   "metadata": {
    "collapsed": true
   },
   "outputs": [],
   "source": [
    "def findLanesWindowSlide(image):\n",
    "    imshape = image.shape\n",
    "    histogram = np.sum(image[imshape[0]//2:,:], axis=0)\n",
    "    outImg = np.dstack((image, image, image))*255\n",
    "    # Get the left and right lane bases\n",
    "    midpoint = np.int(histogram.shape[0]/2)\n",
    "    leftlaneBase = np.argmax(histogram[:midpoint])\n",
    "    rightlaneBase = np.argmax(histogram[midpoint:]) + midpoint\n",
    "    \n",
    "    # Set up windows to analyse with\n",
    "    nwindows = 9\n",
    "    windowHeight = np.int(imshape[0]/nwindows)\n",
    "    windowWidth = 100\n",
    "    \n",
    "    # Get non zero pixels in image\n",
    "    nonzero = image.nonzero()\n",
    "    nonzeroy = np.array(nonzero[0])\n",
    "    nonzerox = np.array(nonzero[1])\n",
    "    \n",
    "    # Start Position\n",
    "    left_current = leftlaneBase\n",
    "    right_current = rightlaneBase\n",
    "    \n",
    "    # Number of pixels to recenter window\n",
    "    minpix = 500\n",
    "    \n",
    "    # Lists for indicies\n",
    "    leftLane_idx = []\n",
    "    rightLane_idx = []\n",
    "    \n",
    "    # Step through each window\n",
    "    for window in range(nwindows):\n",
    "        # Bounderies\n",
    "        winY_low = imshape[0] - (window+1)*windowHeight\n",
    "        winY_high = imshape[0] - window*windowHeight\n",
    "        winXL_low = left_current - windowWidth\n",
    "        winXL_high = left_current + windowWidth\n",
    "        winXR_low = right_current - windowWidth\n",
    "        winXR_high = right_current + windowWidth\n",
    "        \n",
    "        # Draw windows on image\n",
    "        cv2.rectangle(outImg, (winXL_low, winY_low), (winXL_high, winY_high), (0,255,0), 2)\n",
    "        cv2.rectangle(outImg, (winXR_low, winY_low), (winXR_high, winY_high), (0,255,0), 2)\n",
    "        \n",
    "        # Pixels wihtin the window\n",
    "        goodIdx_left = ((nonzeroy>=winY_low) & (nonzeroy<winY_high) & (nonzerox>=winXL_low) & (nonzerox<winXL_high)).nonzero()[0]\n",
    "        goodIdx_right = ((nonzeroy>=winY_low) & (nonzeroy<winY_high) & (nonzerox>=winXR_low) & (nonzerox<winXR_high)).nonzero()[0]\n",
    "        leftLane_idx.append(goodIdx_left)\n",
    "        rightLane_idx.append(goodIdx_right)\n",
    "        \n",
    "        # Shift windows\n",
    "        if len(goodIdx_left) > minpix:\n",
    "            left_current = np.int(np.mean(nonzerox[goodIdx_left]))\n",
    "        if len(goodIdx_right) > minpix:\n",
    "            right_current = np.int(np.mean(nonzerox[goodIdx_right]))\n",
    "        \n",
    "    leftLane_idx = np.concatenate(leftLane_idx)\n",
    "    rightLane_idx = np.concatenate(rightLane_idx)\n",
    "    \n",
    "    #extract pixels for polyfit\n",
    "    leftx = nonzerox[leftLane_idx]\n",
    "    lefty = nonzeroy[leftLane_idx]\n",
    "    rightx = nonzerox[rightLane_idx]\n",
    "    righty = nonzeroy[rightLane_idx]\n",
    "\n",
    "    # Fit Line and radius of curvature\n",
    "    left_fit = np.polyfit(lefty, leftx, 2)\n",
    "    right_fit = np.polyfit(righty, rightx, 2)\n",
    "    leftLane.radius_of_curvature, leftLane.basePos, leftLane.topPos = radiusOfCurvature(leftx, lefty)\n",
    "    rightLane.radius_of_curvature, rightLane.basePos, rightLane.topPos  = radiusOfCurvature(rightx, righty)\n",
    "    \n",
    "    return left_fit, right_fit "
   ]
  },
  {
   "cell_type": "code",
   "execution_count": 13,
   "metadata": {
    "collapsed": true
   },
   "outputs": [],
   "source": [
    "def findLanesLocal(image, coeffs_left, coeffs_right):\n",
    "    # Get non zero pixels in image\n",
    "    nonzero = image.nonzero()\n",
    "    nonzeroy = np.array(nonzero[0])\n",
    "    nonzerox = np.array(nonzero[1])\n",
    "    \n",
    "    # Get pixels in margin around previous line\n",
    "    margin = 100\n",
    "    leftLine = coeffs_left[0]*(nonzeroy**2) + coeffs_left[1]*nonzeroy + coeffs_left[2]\n",
    "    rightLine = coeffs_right[0]*(nonzeroy**2) + coeffs_right[1]*nonzeroy + coeffs_right[2]\n",
    "    leftLane_idx = ((nonzerox > (leftLine - margin)) & (nonzerox < (leftLine + margin)))#.nonzero()[0] \n",
    "    rightLane_idx = ((nonzerox > (rightLine - margin)) & (nonzerox < (rightLine + margin)))#.nonzero()[0]\n",
    "    \n",
    "    #extract pixels for polyfit\n",
    "    leftx = nonzerox[leftLane_idx]\n",
    "    lefty = nonzeroy[leftLane_idx]\n",
    "    rightx = nonzerox[rightLane_idx]\n",
    "    righty = nonzeroy[rightLane_idx]\n",
    "\n",
    "    # Fit Line and radius of curvature\n",
    "    left_fit = np.polyfit(lefty, leftx, 2)\n",
    "    right_fit = np.polyfit(righty, rightx, 2)\n",
    "    leftLane.radius_of_curvature , leftLane.basePos, leftLane.topPos \\\n",
    "        = radiusOfCurvature(leftx, lefty)\n",
    "    rightLane.radius_of_curvature, rightLane.basePos, rightLane.topPos  \\\n",
    "        = radiusOfCurvature(rightx, righty)\n",
    "    return left_fit, right_fit "
   ]
  },
  {
   "cell_type": "markdown",
   "metadata": {},
   "source": [
    "### Image Pipeline"
   ]
  },
  {
   "cell_type": "code",
   "execution_count": 14,
   "metadata": {
    "collapsed": true
   },
   "outputs": [],
   "source": [
    "def drawLanes(image, leftCoeff, rightCoeff):\n",
    "    # Create image to draw on\n",
    "    blankImage = np.zeros_like(image[:,:,0]).astype(np.uint8)\n",
    "    blankImage = np.dstack((blankImage, blankImage, blankImage))\n",
    "    \n",
    "    ploty = np.linspace(0, image.shape[0]-1, image.shape[0])\n",
    "    left_lane = leftCoeff[0]*ploty**2 + leftCoeff[1]*ploty + leftCoeff[2]\n",
    "    right_lane = rightCoeff[0]*ploty**2 + rightCoeff[1]*ploty + rightCoeff[2]\n",
    "    \n",
    "    # Reformat points for drawing\n",
    "    pts_left = np.array([np.transpose(np.vstack([left_lane, ploty]))])\n",
    "    pts_right = np.array([np.flipud(np.transpose(np.vstack([right_lane, ploty])))])\n",
    "    pts = np.hstack((pts_left, pts_right))\n",
    "    \n",
    "    # Draw lane onto image\n",
    "    cv2.fillPoly(blankImage, np.int_([pts]), (0,255,0))\n",
    "    \n",
    "    # Warp back to original image space\n",
    "    unwarped = cv2.warpPerspective(blankImage, Minv, (image.shape[1], image.shape[0]))\n",
    "    \n",
    "    # Combine with original image\n",
    "    return cv2.addWeighted(image, 1, unwarped, 0.3, 0)"
   ]
  },
  {
   "cell_type": "code",
   "execution_count": 15,
   "metadata": {
    "collapsed": true,
    "deletable": true,
    "editable": true
   },
   "outputs": [],
   "source": [
    "# Define a class to receive the characteristics of each line detection\n",
    "class Line():\n",
    "    def __init__(self):\n",
    "        # was the line detected in the last iteration?\n",
    "        self.detected = False  \n",
    "        # x values of the last n fits of the line\n",
    "        self.recent_xfitted = [] \n",
    "        #average x values of the fitted line over the last n iterations\n",
    "        self.bestx = None     \n",
    "        #polynomial coefficients averaged over the last n iterations\n",
    "        self.best_fit = None  \n",
    "        #polynomial coefficients for the most recent fit\n",
    "        self.current_fit = [np.array([False])]  \n",
    "        #polynomial coefficients for n samples\n",
    "        self.pastCoeff = []\n",
    "        #radius of curvature of the line in some units\n",
    "        self.radius_of_curvature = None\n",
    "        # radius of curvature over n samples\n",
    "        self.radiusAverage = []\n",
    "        # position of line bottom\n",
    "        self.basePos = None\n",
    "        # position of line top\n",
    "        self.topPos = None\n",
    "        #distance in meters of vehicle center from the line\n",
    "        self.line_base_pos = None \n",
    "        #difference in fit coefficients between last and new fits\n",
    "        self.diffs = np.array([0,0,0], dtype='float') \n",
    "        #x values for detected line pixels\n",
    "        self.allx = None  \n",
    "        #y values for detected line pixels\n",
    "        self.ally = None\n",
    "        # store number of times the lane has been lost to restart the lane finding\n",
    "        self.numMissed = 0\n",
    "        "
   ]
  },
  {
   "cell_type": "code",
   "execution_count": 16,
   "metadata": {
    "collapsed": false
   },
   "outputs": [],
   "source": [
    "# a = []\n",
    "# b = [1,2,3,4]\n",
    "# c = [5,6,7,8]\n",
    "# a.append(b)\n",
    "# a.append(c)\n",
    "# print(a)\n",
    "# print(len(a))\n",
    "# a.append(b)\n",
    "# print(a)\n",
    "# print(len(a))\n",
    "# a.pop()\n",
    "# print(a)\n",
    "# d = (np.arange(1,11)/10)\n",
    "# print(d)\n",
    "# # d = [1,1,1,1,1,1,1,1,1,1]\n",
    "# print(d)\n",
    "# # d = d[::-1]\n",
    "# # print(d)\n",
    "# a = []\n",
    "# for i in range(9):\n",
    "#     a.append(b)\n",
    "# a.append([10,11,12,13])\n",
    "# print(a)\n",
    "# f = np.average(a, 0, d)\n",
    "# print(f)"
   ]
  },
  {
   "cell_type": "code",
   "execution_count": 17,
   "metadata": {
    "collapsed": false
   },
   "outputs": [],
   "source": [
    "def filterLanes(numSamples=10, maxMissed=10):\n",
    "    # Get difference between top and bottom of mapped lines\n",
    "    baseDist = rightLane.basePos - leftLane.basePos\n",
    "    topDist = rightLane.topPos - leftLane.topPos\n",
    "    distDiff = abs(baseDist-topDist)\n",
    "    distMargin = 0.4\n",
    "    \n",
    "    # Get % diff between estimated radius of curvature\n",
    "    radiusDiff = abs(abs(leftLane.radius_of_curvature)-abs(rightLane.radius_of_curvature))\n",
    "    radiusMax = max(abs(leftLane.radius_of_curvature), abs(rightLane.radius_of_curvature))\n",
    "    radiusPCentDiff = radiusDiff/radiusMax\n",
    "    radiusMargin = 0.8\n",
    "    \n",
    "    # Predict using previous values if not a suitable line. Only if there are enough samples\n",
    "    if ((distDiff > distMargin) | (radiusPCentDiff > radiusMargin)) \\\n",
    "        & len(leftLane.pastCoeff) >= numSamples:\n",
    "        leftLane.numMissed += 1\n",
    "        if leftLane.numMissed > maxMissed:\n",
    "            leftLane.detected = False\n",
    "            rightLane.detected = False\n",
    "    else:\n",
    "        leftLane.pastCoeff.append(leftLane.current_fit)\n",
    "        rightLane.pastCoeff.append(rightLane.current_fit)\n",
    "        \n",
    "        # If we have enough samples to start averaging\n",
    "        if len(leftLane.pastCoeff) > numSamples:\n",
    "            leftLane.pastCoeff.pop(0)\n",
    "            rightLane.pastCoeff.pop(0)\n",
    "        \n",
    "            # Get weighted average of the coefficients of the last n samples\n",
    "            weights = (np.arange(1,numSamples+1)/numSamples)\n",
    "            leftLane.best_fit = np.average(leftLane.pastCoeff, 0, weights)\n",
    "            rightLane.best_fit = np.average(rightLane.pastCoeff, 0, weights)\n",
    "        else:\n",
    "            # Set the best values to the current ones for plotting\n",
    "            leftLane.best_fit = leftLane.current_fit\n",
    "            rightLane.best_fit = rightLane.current_fit\n",
    "        \n",
    "        leftLane.numMissed = 0\n",
    "        leftLane.detected = True\n",
    "        \n",
    "    return"
   ]
  },
  {
   "cell_type": "code",
   "execution_count": 20,
   "metadata": {
    "collapsed": false
   },
   "outputs": [],
   "source": [
    "leftLane = Line()\n",
    "rightLane = Line()\n",
    "def processImage(image):\n",
    "    binary = preprocessImage(image)\n",
    "    \n",
    "    if(leftLane.detected):\n",
    "        leftLane.current_fit, rightLane.current_fit = findLanesLocal(binary, leftLane.best_fit, rightLane.best_fit)\n",
    "    else:\n",
    "        leftLane.current_fit, rightLane.current_fit = findLanesWindowSlide(binary)\n",
    "    \n",
    "    filterLanes()\n",
    "    \n",
    "    return drawLanes(image, leftLane.best_fit, rightLane.best_fit)"
   ]
  },
  {
   "cell_type": "code",
   "execution_count": 22,
   "metadata": {
    "collapsed": false,
    "scrolled": true
   },
   "outputs": [
    {
     "name": "stdout",
     "output_type": "stream",
     "text": [
      "[MoviePy] >>>> Building video test.mp4\n",
      "[MoviePy] Writing video test.mp4\n"
     ]
    },
    {
     "name": "stderr",
     "output_type": "stream",
     "text": [
      "100%|█████████████████████████████████████████████████████████▉| 1260/1261 [05:35<00:00,  3.87it/s]\n"
     ]
    },
    {
     "name": "stdout",
     "output_type": "stream",
     "text": [
      "[MoviePy] Done.\n",
      "[MoviePy] >>>> Video ready: test.mp4 \n",
      "\n",
      "Wall time: 5min 36s\n"
     ]
    }
   ],
   "source": [
    "fileOutput = 'test.mp4'\n",
    "clip1 = VideoFileClip('project_video.mp4')\n",
    "processedVid = clip1.fl_image(processImage)\n",
    "%time processedVid.write_videofile(fileOutput, audio=False)"
   ]
  },
  {
   "cell_type": "code",
   "execution_count": null,
   "metadata": {
    "collapsed": false
   },
   "outputs": [],
   "source": [
    "# from matplotlib import pyplot as plt\n",
    "# frame = clip1.get_frame(0)\n",
    "# plt.imshow(frame)\n",
    "# plt.show()\n",
    "# plt.imsave('./test_images/HardVidImage.jpg', frame)"
   ]
  },
  {
   "cell_type": "code",
   "execution_count": null,
   "metadata": {
    "collapsed": false,
    "scrolled": false
   },
   "outputs": [],
   "source": [
    "# import os\n",
    "# # Load Test Images from file\n",
    "# filelist=[]\n",
    "# for file in os.listdir('./test_images/'):\n",
    "#     if file.endswith('.jpg'):\n",
    "#         filelist.append(file)\n",
    "    \n",
    "# images = [cv2.imread('./test_images/{}'.format(image)) for image in filelist]\n",
    "\n",
    "# leftLane = Line()\n",
    "# rightLane = Line()\n",
    "# for image in images:\n",
    "#     plt.imshow(image)\n",
    "#     plt.show()\n",
    "#     plt.imshow(preprocessImage(image))\n",
    "#     plt.show()"
   ]
  },
  {
   "cell_type": "code",
   "execution_count": null,
   "metadata": {
    "collapsed": true
   },
   "outputs": [],
   "source": [
    "# outImg = np.dstack((image, image, image))*255\n",
    "#     outImg[nonzeroy[leftLane_idx], nonzerox[leftLane_idx]] = [255, 0 ,0]\n",
    "#     outImg[nonzeroy[rightLane_idx], nonzerox[rightLane_idx]] = [0, 0 ,255]\n",
    "#     plt.imshow(outImg)\n",
    "#     plt.plot(left_lane, ploty, color='yellow')\n",
    "#     plt.plot(right_lane, ploty, color='yellow')\n",
    "#     plt.title('Left Fit: {} | Right Fit: {}'.format(L_rSquared, R_rSquared))\n",
    "#     plt.xlim(0, 1280)\n",
    "#     plt.ylim(720, 0)\n",
    "#     plt.show()"
   ]
  },
  {
   "cell_type": "code",
   "execution_count": null,
   "metadata": {
    "collapsed": true
   },
   "outputs": [],
   "source": []
  },
  {
   "cell_type": "code",
   "execution_count": null,
   "metadata": {
    "collapsed": true
   },
   "outputs": [],
   "source": []
  },
  {
   "cell_type": "code",
   "execution_count": null,
   "metadata": {
    "collapsed": true
   },
   "outputs": [],
   "source": []
  }
 ],
 "metadata": {
  "kernelspec": {
   "display_name": "Python 3",
   "language": "python",
   "name": "python3"
  },
  "language_info": {
   "codemirror_mode": {
    "name": "ipython",
    "version": 3
   },
   "file_extension": ".py",
   "mimetype": "text/x-python",
   "name": "python",
   "nbconvert_exporter": "python",
   "pygments_lexer": "ipython3",
   "version": "3.5.2"
  },
  "widgets": {
   "state": {},
   "version": "1.1.2"
  }
 },
 "nbformat": 4,
 "nbformat_minor": 2
}
